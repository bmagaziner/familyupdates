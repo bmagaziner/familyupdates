{
 "cells": [
  {
   "cell_type": "markdown",
   "id": "50936be5-969f-41cd-b9f4-1ea636642009",
   "metadata": {},
   "source": [
    "# Setup"
   ]
  },
  {
   "cell_type": "code",
   "execution_count": 2,
   "id": "071918e7-d672-456c-bc25-0958e499f836",
   "metadata": {},
   "outputs": [],
   "source": [
    "import os\n",
    "import pandas as pd\n",
    "\n",
    "from pprint import pprint\n",
    "\n",
    "from sklearn.metrics import accuracy_score\n",
    "\n",
    "from skllm import MultiLabelZeroShotGPTClassifier\n",
    "from skllm.config import SKLLMConfig"
   ]
  },
  {
   "cell_type": "code",
   "execution_count": 3,
   "id": "00c27fb1-a5f1-428c-95f0-14c1b62abf53",
   "metadata": {},
   "outputs": [],
   "source": [
    "#See notes in INSTALL.md for how to set this, DO NOT HARD CODE YOUR API KEY HERE, \n",
    "# if your repository is public, then someone will steal your API key and make you pay for their shit \n",
    "SKLLMConfig.set_openai_key(os.environ.get('OPENAI_API_KEY'))"
   ]
  },
  {
   "cell_type": "markdown",
   "id": "c5129b91-8cbc-4359-bf2a-dc8d5e00f6ed",
   "metadata": {},
   "source": [
    "# Collect a Dataset"
   ]
  },
  {
   "cell_type": "code",
   "execution_count": 4,
   "id": "ee817bca-c736-474b-be1f-c9034e7780f9",
   "metadata": {},
   "outputs": [],
   "source": [
    "family_updates = [\n",
    "    \"Just signed up for a yoga class! 🧘‍♀️ Excited to start this new journey to better health and inner peace. #YogaLife\",\n",
    "    \"Spent the weekend camping with the kids. ⛺️🌲 Nothing beats quality time in nature. #FamilyAdventures\",\n",
    "    \"Finally got my driver's license! 🚗 Watch out, world, I'm hitting the road! #NewDriver\",\n",
    "    \"Celebrating 25 years of wedded bliss with my amazing husband. ❤️💍 Love you more every day! #Anniversary\",\n",
    "    \"Just completed a 10k charity run for a great cause! 🏃‍♂️ Thanks to all who supported me. #CharityRun\",\n",
    "    \"Baking cookies with the grandkids today! 🍪❤️ They're growing up so fast. #FamilyTime\",\n",
    "    \"Baby's first steps! 👣💕 Proud mom moment. She's growing up too quickly! #Milestone\",\n",
    "    \"Had a blast at the family reunion. So many laughs and memories. Can't wait for the next one! #FamilyReunion\",\n",
    "    \"Took the kids to the science museum today. 🚀🔬 They're little explorers. #ScienceGeeks\",\n",
    "    \"Just started a new book club with some lovely ladies from the neighborhood. 📚 Excited to dive into our first novel! #BookClub\",\n",
    "    \"Family movie night! 🍿🎥 Watching classics from our childhood. #Nostalgia\",\n",
    "    \"Teaching the grandkids how to knit. Passing down the family tradition. #CraftingTime\",\n",
    "    \"Scored tickets to the big game! 🏈 Can't wait to cheer on our team with the family. #SportsFans\",\n",
    "    \"Weekend getaway with my hubby! 💑 Relaxing by the beach and sipping cocktails. #CoupleTime\",\n",
    "    \"Proud of my son for acing his math test! 📚🌟 Keep up the great work, buddy. #ProudDad\",\n",
    "    \"Family picnic in the park today. 🍔🌳 Perfect weather for some outdoor fun. #PicnicDay\",\n",
    "    \"Just adopted a rescue cat! 🐱 Welcome to the family, Whiskers! #NewPet\",\n",
    "    \"Celebrating my 80th birthday with all my loved ones. 🎂🎉 Feeling grateful for a lifetime of memories. #BirthdayParty\",\n",
    "    \"Trying my hand at gardening this spring. 🌻🌱 Hoping to grow some beautiful blooms. #GreenThumb\",\n",
    "    \"Can't believe how fast time flies. My little one is starting kindergarten today! 🎒✏️ #BackToSchool\"\n",
    "]\n",
    "\n",
    "data = pd.DataFrame(family_updates, columns=[\"familyUpdates\"])"
   ]
  },
  {
   "cell_type": "markdown",
   "id": "923dc7af-b409-44b7-a1f1-cae37154cf81",
   "metadata": {},
   "source": [
    "# Understand Your Data"
   ]
  },
  {
   "cell_type": "code",
   "execution_count": 5,
   "id": "bae5d63e-1a2b-4173-8831-330451b7c5c5",
   "metadata": {},
   "outputs": [
    {
     "data": {
      "text/html": [
       "<div>\n",
       "<style scoped>\n",
       "    .dataframe tbody tr th:only-of-type {\n",
       "        vertical-align: middle;\n",
       "    }\n",
       "\n",
       "    .dataframe tbody tr th {\n",
       "        vertical-align: top;\n",
       "    }\n",
       "\n",
       "    .dataframe thead th {\n",
       "        text-align: right;\n",
       "    }\n",
       "</style>\n",
       "<table border=\"1\" class=\"dataframe\">\n",
       "  <thead>\n",
       "    <tr style=\"text-align: right;\">\n",
       "      <th></th>\n",
       "      <th>familyUpdates</th>\n",
       "    </tr>\n",
       "  </thead>\n",
       "  <tbody>\n",
       "    <tr>\n",
       "      <th>0</th>\n",
       "      <td>Just signed up for a yoga class! 🧘‍♀️ Excited ...</td>\n",
       "    </tr>\n",
       "    <tr>\n",
       "      <th>1</th>\n",
       "      <td>Spent the weekend camping with the kids. ⛺️🌲 N...</td>\n",
       "    </tr>\n",
       "    <tr>\n",
       "      <th>2</th>\n",
       "      <td>Finally got my driver's license! 🚗 Watch out, ...</td>\n",
       "    </tr>\n",
       "    <tr>\n",
       "      <th>3</th>\n",
       "      <td>Celebrating 25 years of wedded bliss with my a...</td>\n",
       "    </tr>\n",
       "    <tr>\n",
       "      <th>4</th>\n",
       "      <td>Just completed a 10k charity run for a great c...</td>\n",
       "    </tr>\n",
       "  </tbody>\n",
       "</table>\n",
       "</div>"
      ],
      "text/plain": [
       "                                       familyUpdates\n",
       "0  Just signed up for a yoga class! 🧘‍♀️ Excited ...\n",
       "1  Spent the weekend camping with the kids. ⛺️🌲 N...\n",
       "2  Finally got my driver's license! 🚗 Watch out, ...\n",
       "3  Celebrating 25 years of wedded bliss with my a...\n",
       "4  Just completed a 10k charity run for a great c..."
      ]
     },
     "execution_count": 5,
     "metadata": {},
     "output_type": "execute_result"
    }
   ],
   "source": [
    "data.head()"
   ]
  },
  {
   "cell_type": "code",
   "execution_count": 6,
   "id": "6bea9e4e-af8a-40ee-9a12-5b9dc3d73fc0",
   "metadata": {},
   "outputs": [
    {
     "data": {
      "text/html": [
       "<div>\n",
       "<style scoped>\n",
       "    .dataframe tbody tr th:only-of-type {\n",
       "        vertical-align: middle;\n",
       "    }\n",
       "\n",
       "    .dataframe tbody tr th {\n",
       "        vertical-align: top;\n",
       "    }\n",
       "\n",
       "    .dataframe thead th {\n",
       "        text-align: right;\n",
       "    }\n",
       "</style>\n",
       "<table border=\"1\" class=\"dataframe\">\n",
       "  <thead>\n",
       "    <tr style=\"text-align: right;\">\n",
       "      <th></th>\n",
       "      <th>familyUpdates</th>\n",
       "    </tr>\n",
       "  </thead>\n",
       "  <tbody>\n",
       "    <tr>\n",
       "      <th>count</th>\n",
       "      <td>20</td>\n",
       "    </tr>\n",
       "    <tr>\n",
       "      <th>unique</th>\n",
       "      <td>20</td>\n",
       "    </tr>\n",
       "    <tr>\n",
       "      <th>top</th>\n",
       "      <td>Just signed up for a yoga class! 🧘‍♀️ Excited ...</td>\n",
       "    </tr>\n",
       "    <tr>\n",
       "      <th>freq</th>\n",
       "      <td>1</td>\n",
       "    </tr>\n",
       "  </tbody>\n",
       "</table>\n",
       "</div>"
      ],
      "text/plain": [
       "                                            familyUpdates\n",
       "count                                                  20\n",
       "unique                                                 20\n",
       "top     Just signed up for a yoga class! 🧘‍♀️ Excited ...\n",
       "freq                                                    1"
      ]
     },
     "execution_count": 6,
     "metadata": {},
     "output_type": "execute_result"
    }
   ],
   "source": [
    "data.describe()"
   ]
  },
  {
   "cell_type": "code",
   "execution_count": 7,
   "id": "218e1acd-a5cf-4caf-98ee-aef5d5b60479",
   "metadata": {},
   "outputs": [],
   "source": [
    "X = data[\"familyUpdates\"]"
   ]
  },
  {
   "cell_type": "code",
   "execution_count": 8,
   "id": "2aa94aca-fb96-4217-9a8e-456bb8ea7a91",
   "metadata": {},
   "outputs": [
    {
     "name": "stdout",
     "output_type": "stream",
     "text": [
      "0     Just signed up for a yoga class! 🧘‍♀️ Excited ...\n",
      "1     Spent the weekend camping with the kids. ⛺️🌲 N...\n",
      "2     Finally got my driver's license! 🚗 Watch out, ...\n",
      "3     Celebrating 25 years of wedded bliss with my a...\n",
      "4     Just completed a 10k charity run for a great c...\n",
      "5     Baking cookies with the grandkids today! 🍪❤️ T...\n",
      "6     Baby's first steps! 👣💕 Proud mom moment. She's...\n",
      "7     Had a blast at the family reunion. So many lau...\n",
      "8     Took the kids to the science museum today. 🚀🔬 ...\n",
      "9     Just started a new book club with some lovely ...\n",
      "10    Family movie night! 🍿🎥 Watching classics from ...\n",
      "11    Teaching the grandkids how to knit. Passing do...\n",
      "12    Scored tickets to the big game! 🏈 Can't wait t...\n",
      "13    Weekend getaway with my hubby! 💑 Relaxing by t...\n",
      "14    Proud of my son for acing his math test! 📚🌟 Ke...\n",
      "15    Family picnic in the park today. 🍔🌳 Perfect we...\n",
      "16    Just adopted a rescue cat! 🐱 Welcome to the fa...\n",
      "17    Celebrating my 80th birthday with all my loved...\n",
      "18    Trying my hand at gardening this spring. 🌻🌱 Ho...\n",
      "19    Can't believe how fast time flies. My little o...\n",
      "Name: familyUpdates, dtype: object\n"
     ]
    }
   ],
   "source": [
    "print(X)"
   ]
  },
  {
   "cell_type": "markdown",
   "id": "3e6f108b-5bc1-4ec3-992d-7c14c3512e0d",
   "metadata": {},
   "source": [
    "# \"Develop\" a Model aka just use OpenAI's API"
   ]
  },
  {
   "cell_type": "code",
   "execution_count": 15,
   "id": "6f7be18d-5fd4-41b1-aa4d-cabeb14943a2",
   "metadata": {},
   "outputs": [
    {
     "data": {
      "text/html": [
       "<style>#sk-container-id-2 {color: black;}#sk-container-id-2 pre{padding: 0;}#sk-container-id-2 div.sk-toggleable {background-color: white;}#sk-container-id-2 label.sk-toggleable__label {cursor: pointer;display: block;width: 100%;margin-bottom: 0;padding: 0.3em;box-sizing: border-box;text-align: center;}#sk-container-id-2 label.sk-toggleable__label-arrow:before {content: \"▸\";float: left;margin-right: 0.25em;color: #696969;}#sk-container-id-2 label.sk-toggleable__label-arrow:hover:before {color: black;}#sk-container-id-2 div.sk-estimator:hover label.sk-toggleable__label-arrow:before {color: black;}#sk-container-id-2 div.sk-toggleable__content {max-height: 0;max-width: 0;overflow: hidden;text-align: left;background-color: #f0f8ff;}#sk-container-id-2 div.sk-toggleable__content pre {margin: 0.2em;color: black;border-radius: 0.25em;background-color: #f0f8ff;}#sk-container-id-2 input.sk-toggleable__control:checked~div.sk-toggleable__content {max-height: 200px;max-width: 100%;overflow: auto;}#sk-container-id-2 input.sk-toggleable__control:checked~label.sk-toggleable__label-arrow:before {content: \"▾\";}#sk-container-id-2 div.sk-estimator input.sk-toggleable__control:checked~label.sk-toggleable__label {background-color: #d4ebff;}#sk-container-id-2 div.sk-label input.sk-toggleable__control:checked~label.sk-toggleable__label {background-color: #d4ebff;}#sk-container-id-2 input.sk-hidden--visually {border: 0;clip: rect(1px 1px 1px 1px);clip: rect(1px, 1px, 1px, 1px);height: 1px;margin: -1px;overflow: hidden;padding: 0;position: absolute;width: 1px;}#sk-container-id-2 div.sk-estimator {font-family: monospace;background-color: #f0f8ff;border: 1px dotted black;border-radius: 0.25em;box-sizing: border-box;margin-bottom: 0.5em;}#sk-container-id-2 div.sk-estimator:hover {background-color: #d4ebff;}#sk-container-id-2 div.sk-parallel-item::after {content: \"\";width: 100%;border-bottom: 1px solid gray;flex-grow: 1;}#sk-container-id-2 div.sk-label:hover label.sk-toggleable__label {background-color: #d4ebff;}#sk-container-id-2 div.sk-serial::before {content: \"\";position: absolute;border-left: 1px solid gray;box-sizing: border-box;top: 0;bottom: 0;left: 50%;z-index: 0;}#sk-container-id-2 div.sk-serial {display: flex;flex-direction: column;align-items: center;background-color: white;padding-right: 0.2em;padding-left: 0.2em;position: relative;}#sk-container-id-2 div.sk-item {position: relative;z-index: 1;}#sk-container-id-2 div.sk-parallel {display: flex;align-items: stretch;justify-content: center;background-color: white;position: relative;}#sk-container-id-2 div.sk-item::before, #sk-container-id-2 div.sk-parallel-item::before {content: \"\";position: absolute;border-left: 1px solid gray;box-sizing: border-box;top: 0;bottom: 0;left: 50%;z-index: -1;}#sk-container-id-2 div.sk-parallel-item {display: flex;flex-direction: column;z-index: 1;position: relative;background-color: white;}#sk-container-id-2 div.sk-parallel-item:first-child::after {align-self: flex-end;width: 50%;}#sk-container-id-2 div.sk-parallel-item:last-child::after {align-self: flex-start;width: 50%;}#sk-container-id-2 div.sk-parallel-item:only-child::after {width: 0;}#sk-container-id-2 div.sk-dashed-wrapped {border: 1px dashed gray;margin: 0 0.4em 0.5em 0.4em;box-sizing: border-box;padding-bottom: 0.4em;background-color: white;}#sk-container-id-2 div.sk-label label {font-family: monospace;font-weight: bold;display: inline-block;line-height: 1.2em;}#sk-container-id-2 div.sk-label-container {text-align: center;}#sk-container-id-2 div.sk-container {/* jupyter's `normalize.less` sets `[hidden] { display: none; }` but bootstrap.min.css set `[hidden] { display: none !important; }` so we also need the `!important` here to be able to override the default hidden behavior on the sphinx rendered scikit-learn.org. See: https://github.com/scikit-learn/scikit-learn/issues/21755 */display: inline-block !important;position: relative;}#sk-container-id-2 div.sk-text-repr-fallback {display: none;}</style><div id=\"sk-container-id-2\" class=\"sk-top-container\"><div class=\"sk-text-repr-fallback\"><pre>MultiLabelZeroShotGPTClassifier(max_labels=2)</pre><b>In a Jupyter environment, please rerun this cell to show the HTML representation or trust the notebook. <br />On GitHub, the HTML representation is unable to render, please try loading this page with nbviewer.org.</b></div><div class=\"sk-container\" hidden><div class=\"sk-item\"><div class=\"sk-estimator sk-toggleable\"><input class=\"sk-toggleable__control sk-hidden--visually\" id=\"sk-estimator-id-2\" type=\"checkbox\" checked><label for=\"sk-estimator-id-2\" class=\"sk-toggleable__label sk-toggleable__label-arrow\">MultiLabelZeroShotGPTClassifier</label><div class=\"sk-toggleable__content\"><pre>MultiLabelZeroShotGPTClassifier(max_labels=2)</pre></div></div></div></div></div>"
      ],
      "text/plain": [
       "MultiLabelZeroShotGPTClassifier(max_labels=2)"
      ]
     },
     "execution_count": 15,
     "metadata": {},
     "output_type": "execute_result"
    }
   ],
   "source": [
    "# Define candidate labels\n",
    "candidate_labels = [\n",
    "    \"Republican\",\n",
    "    \"Democrat\",\n",
    "    \"Leftist\",\n",
    "    \"Libertarian\"\n",
    "]\n",
    "\n",
    "# Create and fit the classifier\n",
    "clf = MultiLabelZeroShotGPTClassifier(max_labels=2) \n",
    "clf.fit(X, [candidate_labels])"
   ]
  },
  {
   "cell_type": "code",
   "execution_count": 16,
   "id": "d9c26536-06f5-46ea-bc8f-20f63a7aaecd",
   "metadata": {},
   "outputs": [
    {
     "name": "stderr",
     "output_type": "stream",
     "text": [
      "100%|███████████████████████████████████████████| 20/20 [00:35<00:00,  1.77s/it]\n"
     ]
    }
   ],
   "source": [
    "# Predict the labels\n",
    "labels = clf.predict(X)"
   ]
  },
  {
   "cell_type": "code",
   "execution_count": 17,
   "id": "23428a1f-9c98-440d-a9f2-e2e9a7001e7c",
   "metadata": {},
   "outputs": [],
   "source": [
    "data[\"ChatGPTLabel\"] = labels"
   ]
  },
  {
   "cell_type": "code",
   "execution_count": 18,
   "id": "5555abb9-4691-4b81-bd19-38a3717913dc",
   "metadata": {},
   "outputs": [],
   "source": [
    "# # Rename the column to match the format you mentioned\n",
    "# data.rename(columns={\"estatesaleitems\": \"postTitle\"}, inplace=True)"
   ]
  },
  {
   "cell_type": "code",
   "execution_count": 19,
   "id": "906c91be-9db4-458f-a0cd-38025dd029cb",
   "metadata": {},
   "outputs": [
    {
     "name": "stdout",
     "output_type": "stream",
     "text": [
      "                                        familyUpdates            ChatGPTLabel\n",
      "0   Just signed up for a yoga class! 🧘‍♀️ Excited ...               [Leftist]\n",
      "1   Spent the weekend camping with the kids. ⛺️🌲 N...  [Republican, Democrat]\n",
      "2   Finally got my driver's license! 🚗 Watch out, ...            [Republican]\n",
      "3   Celebrating 25 years of wedded bliss with my a...            [Republican]\n",
      "4   Just completed a 10k charity run for a great c...            [Republican]\n",
      "5   Baking cookies with the grandkids today! 🍪❤️ T...                      []\n",
      "6   Baby's first steps! 👣💕 Proud mom moment. She's...              [Democrat]\n",
      "7   Had a blast at the family reunion. So many lau...            [Republican]\n",
      "8   Took the kids to the science museum today. 🚀🔬 ...              [Democrat]\n",
      "9   Just started a new book club with some lovely ...              [Democrat]\n",
      "10  Family movie night! 🍿🎥 Watching classics from ...              [Democrat]\n",
      "11  Teaching the grandkids how to knit. Passing do...            [Republican]\n",
      "12  Scored tickets to the big game! 🏈 Can't wait t...  [Republican, Democrat]\n",
      "13  Weekend getaway with my hubby! 💑 Relaxing by t...  [Republican, Democrat]\n",
      "14  Proud of my son for acing his math test! 📚🌟 Ke...            [Republican]\n",
      "15  Family picnic in the park today. 🍔🌳 Perfect we...            [Republican]\n",
      "16  Just adopted a rescue cat! 🐱 Welcome to the fa...            [Republican]\n",
      "17  Celebrating my 80th birthday with all my loved...            [Republican]\n",
      "18  Trying my hand at gardening this spring. 🌻🌱 Ho...               [Leftist]\n",
      "19  Can't believe how fast time flies. My little o...              [Democrat]\n"
     ]
    }
   ],
   "source": [
    "# Display the resulting DataFrame\n",
    "print(data)"
   ]
  },
  {
   "cell_type": "markdown",
   "id": "782d5e63-3e5e-4b4f-9d73-a3d43401169b",
   "metadata": {
    "jp-MarkdownHeadingCollapsed": true
   },
   "source": [
    "# Choose a measure of success, Choose an evaluation protocol / evaluate"
   ]
  },
  {
   "cell_type": "markdown",
   "id": "8d7dd10a-5fc6-4359-b23a-563fa0b33f9b",
   "metadata": {},
   "source": [
    "# Skipped Steps\n",
    "* Beat a baseline\n",
    "* Overfit, regularize and tune\n",
    "* Communicate with stakeholders\n",
    "* Ship an inference model\n",
    "* Monitor and maintain"
   ]
  },
  {
   "cell_type": "code",
   "execution_count": 20,
   "id": "bdd1c3eb-6af3-4d6d-992c-13fb476cc373",
   "metadata": {},
   "outputs": [
    {
     "name": "stdout",
     "output_type": "stream",
     "text": [
      "[['Leftist'], ['Republican', 'Democrat'], ['Republican'], ['Republican'], ['Republican'], [], ['Democrat'], ['Republican'], ['Democrat'], ['Democrat'], ['Democrat'], ['Republican'], ['Republican', 'Democrat'], ['Republican', 'Democrat'], ['Republican'], ['Republican'], ['Republican'], ['Republican'], ['Leftist'], ['Democrat']]\n"
     ]
    }
   ],
   "source": [
    "print(labels)"
   ]
  },
  {
   "cell_type": "code",
   "execution_count": null,
   "id": "73e92af2-4fa6-4e8f-b77c-a05f640166bc",
   "metadata": {},
   "outputs": [],
   "source": []
  }
 ],
 "metadata": {
  "kernelspec": {
   "display_name": "Python 3 (ipykernel)",
   "language": "python",
   "name": "python3"
  },
  "language_info": {
   "codemirror_mode": {
    "name": "ipython",
    "version": 3
   },
   "file_extension": ".py",
   "mimetype": "text/x-python",
   "name": "python",
   "nbconvert_exporter": "python",
   "pygments_lexer": "ipython3",
   "version": "3.10.13"
  }
 },
 "nbformat": 4,
 "nbformat_minor": 5
}
